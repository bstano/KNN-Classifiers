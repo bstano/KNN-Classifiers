{
 "cells": [
  {
   "cell_type": "markdown",
   "metadata": {},
   "source": [
    "## KNN vs. OLS\n",
    "\n",
    "I have data on the fertitily and medical history of 100 men. I want to use the medical history I have to try and predict whether or not each man has abnormal fertility. \n",
    "\n",
    "The data has 10 variables. Our outcome __Diagnosis__ which tells if a subject has normal or altered fertility. \n",
    "\n",
    "There are the 3 binary categorical variables telling if a subject has had serious physical __Trauma__, any __Childhood_Disease__, or __Surgery__. There are 4 other categorical variables that describe what __Season__ the test was administered in, if the subject has had any __Recent_fever__ and if so how recent, the subject's __Alcohol_use__, and the subject's __Smoking__ habits. The final 2 variables are continuous and decribe the subject's __Age__ and how many __Hours_sitting__ the subject spends per day.\n",
    "\n",
    "All the non-binary variables has been transformed so that they are between -1 and 1. "
   ]
  },
  {
   "cell_type": "code",
   "execution_count": 1,
   "metadata": {},
   "outputs": [],
   "source": [
    "import numpy as np\n",
    "import pandas as pd\n",
    "import matplotlib.pyplot as plt\n",
    "import seaborn as sns\n",
    "import math\n",
    "import codecs\n",
    "import random\n",
    "from collections import Counter\n",
    "from IPython.core.display import HTML\n",
    "from sklearn.naive_bayes import BernoulliNB\n",
    "from sklearn.preprocessing import StandardScaler\n",
    "import urllib.request\n",
    "\n",
    "%matplotlib inline"
   ]
  },
  {
   "cell_type": "markdown",
   "metadata": {},
   "source": [
    "## Importing the Data\n"
   ]
  },
  {
   "cell_type": "code",
   "execution_count": 2,
   "metadata": {},
   "outputs": [],
   "source": [
    "data = urllib.request.urlopen(\"http://archive.ics.uci.edu/ml/machine-learning-databases/00244/fertility_Diagnosis.txt\").read()\n",
    "data_str = str(data)"
   ]
  },
  {
   "cell_type": "code",
   "execution_count": 3,
   "metadata": {},
   "outputs": [],
   "source": [
    "#print(data_str)"
   ]
  },
  {
   "cell_type": "code",
   "execution_count": 4,
   "metadata": {},
   "outputs": [],
   "source": [
    "data_str = data_str[2:(len(data_str)-1)]"
   ]
  },
  {
   "cell_type": "code",
   "execution_count": 5,
   "metadata": {},
   "outputs": [],
   "source": [
    "#print(data_str)"
   ]
  },
  {
   "cell_type": "code",
   "execution_count": 6,
   "metadata": {},
   "outputs": [],
   "source": [
    "data_list = data_str.split('\\\\r\\\\n')"
   ]
  },
  {
   "cell_type": "code",
   "execution_count": 7,
   "metadata": {},
   "outputs": [],
   "source": [
    "#display(data_list)"
   ]
  },
  {
   "cell_type": "code",
   "execution_count": 8,
   "metadata": {},
   "outputs": [],
   "source": [
    "del data_list[len(data_list)-1]"
   ]
  },
  {
   "cell_type": "code",
   "execution_count": 9,
   "metadata": {},
   "outputs": [],
   "source": [
    "data_series = pd.Series(data_list)\n",
    "#display(data_series)"
   ]
  },
  {
   "cell_type": "code",
   "execution_count": 10,
   "metadata": {},
   "outputs": [],
   "source": [
    "fertility = data_series.str.split(',',n=10,expand=True)\n",
    "fertility.columns = ['Season','Age','Childhood_disease','Trama','Surgery','Recent_fever',\n",
    "                    'Alcohol_use','Smoking','Hours_sitting','Diagnosis']"
   ]
  },
  {
   "cell_type": "code",
   "execution_count": 11,
   "metadata": {},
   "outputs": [
    {
     "data": {
      "text/html": [
       "<div>\n",
       "<style scoped>\n",
       "    .dataframe tbody tr th:only-of-type {\n",
       "        vertical-align: middle;\n",
       "    }\n",
       "\n",
       "    .dataframe tbody tr th {\n",
       "        vertical-align: top;\n",
       "    }\n",
       "\n",
       "    .dataframe thead th {\n",
       "        text-align: right;\n",
       "    }\n",
       "</style>\n",
       "<table border=\"1\" class=\"dataframe\">\n",
       "  <thead>\n",
       "    <tr style=\"text-align: right;\">\n",
       "      <th></th>\n",
       "      <th>Season</th>\n",
       "      <th>Age</th>\n",
       "      <th>Childhood_disease</th>\n",
       "      <th>Trama</th>\n",
       "      <th>Surgery</th>\n",
       "      <th>Recent_fever</th>\n",
       "      <th>Alcohol_use</th>\n",
       "      <th>Smoking</th>\n",
       "      <th>Hours_sitting</th>\n",
       "      <th>Diagnosis</th>\n",
       "    </tr>\n",
       "  </thead>\n",
       "  <tbody>\n",
       "    <tr>\n",
       "      <th>0</th>\n",
       "      <td>-0.33</td>\n",
       "      <td>0.69</td>\n",
       "      <td>0</td>\n",
       "      <td>1</td>\n",
       "      <td>1</td>\n",
       "      <td>0</td>\n",
       "      <td>0.8</td>\n",
       "      <td>0</td>\n",
       "      <td>0.88</td>\n",
       "      <td>N</td>\n",
       "    </tr>\n",
       "    <tr>\n",
       "      <th>1</th>\n",
       "      <td>-0.33</td>\n",
       "      <td>0.94</td>\n",
       "      <td>1</td>\n",
       "      <td>0</td>\n",
       "      <td>1</td>\n",
       "      <td>0</td>\n",
       "      <td>0.8</td>\n",
       "      <td>1</td>\n",
       "      <td>0.31</td>\n",
       "      <td>O</td>\n",
       "    </tr>\n",
       "    <tr>\n",
       "      <th>2</th>\n",
       "      <td>-0.33</td>\n",
       "      <td>0.5</td>\n",
       "      <td>1</td>\n",
       "      <td>0</td>\n",
       "      <td>0</td>\n",
       "      <td>0</td>\n",
       "      <td>1</td>\n",
       "      <td>-1</td>\n",
       "      <td>0.5</td>\n",
       "      <td>N</td>\n",
       "    </tr>\n",
       "    <tr>\n",
       "      <th>3</th>\n",
       "      <td>-0.33</td>\n",
       "      <td>0.75</td>\n",
       "      <td>0</td>\n",
       "      <td>1</td>\n",
       "      <td>1</td>\n",
       "      <td>0</td>\n",
       "      <td>1</td>\n",
       "      <td>-1</td>\n",
       "      <td>0.38</td>\n",
       "      <td>N</td>\n",
       "    </tr>\n",
       "    <tr>\n",
       "      <th>4</th>\n",
       "      <td>-0.33</td>\n",
       "      <td>0.67</td>\n",
       "      <td>1</td>\n",
       "      <td>1</td>\n",
       "      <td>0</td>\n",
       "      <td>0</td>\n",
       "      <td>0.8</td>\n",
       "      <td>-1</td>\n",
       "      <td>0.5</td>\n",
       "      <td>O</td>\n",
       "    </tr>\n",
       "  </tbody>\n",
       "</table>\n",
       "</div>"
      ],
      "text/plain": [
       "  Season   Age Childhood_disease Trama Surgery Recent_fever Alcohol_use  \\\n",
       "0  -0.33  0.69                 0     1       1            0         0.8   \n",
       "1  -0.33  0.94                 1     0       1            0         0.8   \n",
       "2  -0.33   0.5                 1     0       0            0           1   \n",
       "3  -0.33  0.75                 0     1       1            0           1   \n",
       "4  -0.33  0.67                 1     1       0            0         0.8   \n",
       "\n",
       "  Smoking Hours_sitting Diagnosis  \n",
       "0       0          0.88         N  \n",
       "1       1          0.31         O  \n",
       "2      -1           0.5         N  \n",
       "3      -1          0.38         N  \n",
       "4      -1           0.5         O  "
      ]
     },
     "metadata": {},
     "output_type": "display_data"
    }
   ],
   "source": [
    "display(fertility.head())"
   ]
  },
  {
   "cell_type": "code",
   "execution_count": 12,
   "metadata": {},
   "outputs": [],
   "source": [
    "# Can the outcome varibale to numeric\n",
    "fertility['DiagNum'] = fertility['Diagnosis'].apply({'N':0,'O':1}.get)"
   ]
  },
  {
   "cell_type": "code",
   "execution_count": 13,
   "metadata": {},
   "outputs": [
    {
     "data": {
      "text/plain": [
       "(100, 11)"
      ]
     },
     "execution_count": 13,
     "metadata": {},
     "output_type": "execute_result"
    }
   ],
   "source": [
    "fertility.shape"
   ]
  },
  {
   "cell_type": "code",
   "execution_count": 14,
   "metadata": {},
   "outputs": [],
   "source": [
    "features = fertility[['Season','Age','Childhood_disease','Trama','Surgery','Recent_fever',\n",
    "                      'Alcohol_use','Smoking','Hours_sitting','DiagNum']]\n",
    "#make sure features are floats\n",
    "features = features.astype('float64')"
   ]
  },
  {
   "cell_type": "markdown",
   "metadata": {},
   "source": [
    "Now that the data is prepped I'm ready to begin modeling. Since both types of models I will be using are regression-based, I need to make sure all of my features correlate with my outcome variable. I will make 2 correlation maps to get a good look at both the negative a positive correlation of my features."
   ]
  },
  {
   "cell_type": "code",
   "execution_count": 49,
   "metadata": {},
   "outputs": [
    {
     "data": {
      "image/png": "[encoded data removed]",
      "text/plain": [
       "<Figure size 576x576 with 2 Axes>"
      ]
     },
     "metadata": {},
     "output_type": "display_data"
    },
    {
     "data": {
      "image/png": "[encoded data removed]",
      "text/plain": [
       "<Figure size 576x576 with 2 Axes>"
      ]
     },
     "metadata": {},
     "output_type": "display_data"
    }
   ],
   "source": [
    "fcorr = features.corr()\n",
    "\n",
    "f, ax = plt.subplots(figsize=(8, 8))\n",
    "sns.heatmap(fcorr, vmax=.8, vmin=-0.0, square=True)\n",
    "plt.title('Positive Correlation')\n",
    "plt.show()\n",
    "\n",
    "f, ax = plt.subplots(figsize=(8, 8))\n",
    "sns.heatmap(fcorr, vmax=.0, vmin=-0.8, square=True)\n",
    "plt.title('Negative Correlation')\n",
    "plt.show()"
   ]
  },
  {
   "cell_type": "markdown",
   "metadata": {},
   "source": [
    "I should drop the __Hours_sitting__ and __Smoking__ features since they don't seem to have much correlation with the outcome variable at all. \n",
    "\n",
    "## KNN Regression\n",
    "\n",
    "The first model type I'll try is KNN regression."
   ]
  },
  {
   "cell_type": "code",
   "execution_count": 127,
   "metadata": {},
   "outputs": [
    {
     "name": "stdout",
     "output_type": "stream",
     "text": [
      "\n",
      "R-squared: 0.2234848484848485\n",
      "\n",
      "Error: -0.05 (+/- 0.52)\n"
     ]
    }
   ],
   "source": [
    "from sklearn import neighbors\n",
    "\n",
    "knn = neighbors.KNeighborsRegressor(n_neighbors=5)\n",
    "\n",
    "features_knn = ['Season','Age','Childhood_disease','Trama','Surgery','Recent_fever','Alcohol_use']\n",
    "data_knn = features[features_knn]\n",
    "target = features.DiagNum\n",
    "knn.fit(data_knn, target)\n",
    "\n",
    "print('\\nR-squared:',knn.score(data_knn, target))\n",
    "\n",
    "score_knn = cross_val_score(knn, data_knn, target, cv=10)\n",
    "print(\"\\nError: %0.2f (+/- %0.2f)\" % (score_knn.mean(), score_knn.std() * 2))"
   ]
  },
  {
   "cell_type": "markdown",
   "metadata": {},
   "source": [
    "I have made a KNN regression where K=5, the accuracy of the model is around 22%. Interestingly, any increase in the number of neighbors drastically reduces the accuraccy of the model.\n",
    "\n",
    "## OLS Regression\n",
    "\n",
    "Unlike with KNN regression, OLS regression will well if the features correlate too much with each other. "
   ]
  },
  {
   "cell_type": "code",
   "execution_count": 128,
   "metadata": {},
   "outputs": [
    {
     "name": "stdout",
     "output_type": "stream",
     "text": [
      "\n",
      "Coefficients: \n",
      " [ 0.05506585  0.33223146  0.02300592 -0.13651196  0.00350943 -0.06990793\n",
      " -0.31166115]\n",
      "\n",
      "R-squared: 0.10710837044214805\n",
      "\n",
      "Error: -0.16 (+/- 0.54)\n"
     ]
    }
   ],
   "source": [
    "from sklearn import linear_model\n",
    "\n",
    "regr = linear_model.LinearRegression()\n",
    "features_ols = ['Season','Age','Childhood_disease','Trama','Surgery','Recent_fever','Alcohol_use']\n",
    "data_ols = features[features_ols]\n",
    "target = features.DiagNum\n",
    "regr.fit(data_ols, target)\n",
    "\n",
    "print('\\nCoefficients: \\n', regr.coef_)\n",
    "print('\\nR-squared:',regr.score(data_ols, target))\n",
    "\n",
    "score_ols = cross_val_score(regr, data_ols, target, cv=10)\n",
    "print(\"\\nError: %0.2f (+/- %0.2f)\" % (score_ols.mean(), score_ols.std() * 2))"
   ]
  },
  {
   "cell_type": "markdown",
   "metadata": {},
   "source": [
    "The OLS regression model I made has an accuracy of 11%.\n",
    "\n",
    "Now it's time to compare my models\n",
    "\n",
    "## Comparing Models\n",
    "\n",
    "We can compare the models by looking at there accuracy, represented by their R squared value, and there prediction error, measured by there cross validation scores."
   ]
  },
  {
   "cell_type": "code",
   "execution_count": 130,
   "metadata": {},
   "outputs": [
    {
     "name": "stdout",
     "output_type": "stream",
     "text": [
      "\n",
      "KNN R-squared: 0.2234848484848485\n",
      "\n",
      "OLS R-squared: 0.10710837044214805\n",
      "\n",
      "KNN Error: -0.05 (+/- 0.52)\n",
      "\n",
      "OLS Error: -0.16 (+/- 0.54)\n"
     ]
    }
   ],
   "source": [
    "from sklearn.model_selection import cross_val_score\n",
    "\n",
    "print('\\nKNN R-squared:',knn.score(data_knn, target))\n",
    "\n",
    "print('\\nOLS R-squared:',regr.score(data_ols, target))\n",
    "\n",
    "score_knn = cross_val_score(knn, data_knn, target, cv=10)\n",
    "print(\"\\nKNN Error: %0.2f (+/- %0.2f)\" % (score_knn.mean(), score_knn.std() * 2))\n",
    "\n",
    "score_ols = cross_val_score(regr, data_ols, target, cv=10)\n",
    "print(\"\\nOLS Error: %0.2f (+/- %0.2f)\" % (score_ols.mean(), score_ols.std() * 2))"
   ]
  },
  {
   "cell_type": "markdown",
   "metadata": {},
   "source": [
    "It seems our data works much better with KNN type regression.  This is probably because the data is small, and there aren't as many data points to training on.  Additionally, none of the provided features has very strong correlation with the outcome, making OLS regression less effective."
   ]
  }
 ],
 "metadata": {
  "kernelspec": {
   "display_name": "Python 3",
   "language": "python",
   "name": "python3"
  },
  "language_info": {
   "codemirror_mode": {
    "name": "ipython",
    "version": 3
   },
   "file_extension": ".py",
   "mimetype": "text/x-python",
   "name": "python",
   "nbconvert_exporter": "python",
   "pygments_lexer": "ipython3",
   "version": "3.6.4"
  }
 },
 "nbformat": 4,
 "nbformat_minor": 2
}
